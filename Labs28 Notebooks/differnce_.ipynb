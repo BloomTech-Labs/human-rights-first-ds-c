{
  "nbformat": 4,
  "nbformat_minor": 0,
  "metadata": {
    "colab": {
      "name": "differnce?.ipynb",
      "provenance": [],
      "collapsed_sections": []
    },
    "kernelspec": {
      "name": "python3",
      "display_name": "Python 3"
    }
  },
  "cells": [
    {
      "cell_type": "code",
      "metadata": {
        "id": "KNsvs8U8f-IA"
      },
      "source": [
        "# def get_difference(list_a, list_b):\n",
        "#     return set(list_a)-set(list_b)\n",
        " \n",
        "# list_a = df1['title']\n",
        "# list_b = df2['title']\n",
        " \n",
        "# non_match = list(get_difference(list_a, list_b))\n",
        "# print(\"No match elements: \", non_match)"
      ],
      "execution_count": 1,
      "outputs": []
    },
    {
      "cell_type": "code",
      "metadata": {
        "id": "WclAMFUTikpL"
      },
      "source": [
        "import pandas as pd\n",
        "from urllib.parse import urlparse"
      ],
      "execution_count": 1,
      "outputs": []
    },
    {
      "cell_type": "code",
      "metadata": {
        "id": "xcdjSiNNZC2-"
      },
      "source": [
        "# Load and get shape to same format as export in deduplication notebook\n",
        "df = pd.read_csv('/content/Labs28_AllSources_wo_DuplicateLinks2020-11-09 03_02_06.620162+00_00 (3).csv', sep=\"|\")\n",
        "df['date'] = pd.to_datetime(df['date'],format='%Y-%m-%d')\n",
        "df['lat'] = df['lat'].index.astype(float)\n",
        "df['long'] = df['long'].index.astype(float)\n",
        "# Drop all unneccessary columns\n",
        "df.drop(labels=['date', 'id', 'city', 'state', 'lat', 'long', 'title',\n",
        "       'description', 'tags', 'verbalization', 'empty_hand_soft',\n",
        "       'empty_hand_hard', 'less_lethal_methods', 'lethal_force',\n",
        "       'uncategorized'], axis=1, inplace=True)"
      ],
      "execution_count": 2,
      "outputs": []
    },
    {
      "cell_type": "code",
      "metadata": {
        "id": "8w3jEKCnxUiX",
        "outputId": "b8c94b06-b560-41f9-99db-013be2b25e21",
        "colab": {
          "base_uri": "https://localhost:8080/",
          "height": 416
        }
      },
      "source": [
        "col = df.links\n",
        "\n",
        "def stringtolinks(col):\n",
        "    \"\"\"\n",
        "    Takes a column containing multiple urls as one string and parses urls\n",
        "    \"\"\" \n",
        "    l, words, chars = [], [], []\n",
        "\n",
        "    for row in range(len(col)):\n",
        "        # l.append(words)\n",
        "        # words =[]\n",
        "\n",
        "        for char in col[row]:\n",
        "\n",
        "            if (ord(char) != ord(\"'\")) and (ord(char) != ord(\"[\")) and (ord(char) != ord(\"]\")) and (char != \" \"):\n",
        "\n",
        "                    if char != \",\":\n",
        "                        chars.append(char)\n",
        "                        \n",
        "                    # elif char == \",\":\n",
        "                    else:\n",
        "                        words.append(\"\".join(chars))\n",
        "                        chars = []\n",
        "\n",
        "        words.append(\"\".join(chars))  \n",
        "        l.append(words)\n",
        "        chars = []\n",
        "        words =[]\n",
        "    return l\n",
        "\n",
        "df['testlinks'] = stringtolinks(col)\n",
        "\n",
        "\n",
        "source, path = [], []\n",
        "\n",
        "for i, row  in enumerate(df.testlinks):\n",
        "    source_p, path_p = [], []\n",
        "\n",
        "    for item in row:\n",
        "\n",
        "        url = item\n",
        "        o = urlparse(url)\n",
        "        source_p.append(o.netloc)\n",
        "        \n",
        "        # source_p\n",
        "        path_p.append(o.path)\n",
        "\n",
        "    source.append(set(source_p))\n",
        "    path.append(path_p)\n",
        "\n",
        "df['source'], df['paths'] = source, path\n",
        "\n",
        "\n",
        "col = df.paths\n",
        "def splitusers(col):\n",
        "    users = []\n",
        "    user = set()\n",
        "    chars = \"\"\n",
        "    counter = 0\n",
        "\n",
        "    for row in col:\n",
        "        for item in row:\n",
        "            for char in item:\n",
        "                \n",
        "                if char == \"/\" and counter != 2:\n",
        "                    counter += 1 \n",
        "                else:\n",
        "                    chars = chars + char\n",
        "\n",
        "                if counter == 2:\n",
        "                    break\n",
        "                    continue\n",
        "\n",
        "            user.add(chars)\n",
        "            # user.append(chars)\n",
        "            chars = \"\"\n",
        "            counter = 0\n",
        "\n",
        "        users.append(user)\n",
        "        user = set()\n",
        "        chars = \"\"\n",
        "        counter = 0\n",
        "\n",
        "    return users\n",
        "df['users'] = splitusers(col)\n",
        "df.drop(labels=['links', 'paths'], axis=1, inplace=True)\n",
        "df"
      ],
      "execution_count": 3,
      "outputs": [
        {
          "output_type": "execute_result",
          "data": {
            "text/html": [
              "<div>\n",
              "<style scoped>\n",
              "    .dataframe tbody tr th:only-of-type {\n",
              "        vertical-align: middle;\n",
              "    }\n",
              "\n",
              "    .dataframe tbody tr th {\n",
              "        vertical-align: top;\n",
              "    }\n",
              "\n",
              "    .dataframe thead th {\n",
              "        text-align: right;\n",
              "    }\n",
              "</style>\n",
              "<table border=\"1\" class=\"dataframe\">\n",
              "  <thead>\n",
              "    <tr style=\"text-align: right;\">\n",
              "      <th></th>\n",
              "      <th>testlinks</th>\n",
              "      <th>source</th>\n",
              "      <th>users</th>\n",
              "    </tr>\n",
              "  </thead>\n",
              "  <tbody>\n",
              "    <tr>\n",
              "      <th>0</th>\n",
              "      <td>[https://youtu.be/XAa5xb6JitI?t=5982, https://...</td>\n",
              "      <td>{youtu.be, gfycat.com}</td>\n",
              "      <td>{distinctsecretgrasshopper-minneapolis-protest...</td>\n",
              "    </tr>\n",
              "    <tr>\n",
              "      <th>1</th>\n",
              "      <td>[https://www.facebook.com/damicedsota.thespiri...</td>\n",
              "      <td>{www.facebook.com}</td>\n",
              "      <td>{damicedsota.thespiritflow}</td>\n",
              "    </tr>\n",
              "    <tr>\n",
              "      <th>2</th>\n",
              "      <td>[https://www.facebook.com/1462345700/posts/102...</td>\n",
              "      <td>{www.facebook.com}</td>\n",
              "      <td>{1462345700}</td>\n",
              "    </tr>\n",
              "    <tr>\n",
              "      <th>3</th>\n",
              "      <td>[https://www.denverpost.com/2020/05/29/denver-...</td>\n",
              "      <td>{www.denverpost.com, www.nytimes.com}</td>\n",
              "      <td>{2020}</td>\n",
              "    </tr>\n",
              "    <tr>\n",
              "      <th>4</th>\n",
              "      <td>[https://twitter.com/ShimonPro/status/12661365...</td>\n",
              "      <td>{twitter.com}</td>\n",
              "      <td>{ShimonPro}</td>\n",
              "    </tr>\n",
              "    <tr>\n",
              "      <th>...</th>\n",
              "      <td>...</td>\n",
              "      <td>...</td>\n",
              "      <td>...</td>\n",
              "    </tr>\n",
              "    <tr>\n",
              "      <th>1243</th>\n",
              "      <td>[https://twitter.com/Cascadianphotog/status/13...</td>\n",
              "      <td>{twitter.com}</td>\n",
              "      <td>{hungrybowtie, ByMikeBaker, Cascadianphotog}</td>\n",
              "    </tr>\n",
              "    <tr>\n",
              "      <th>1244</th>\n",
              "      <td>[https://twitter.com/onelung_/status/132420651...</td>\n",
              "      <td>{twitter.com, www.youtube.com}</td>\n",
              "      <td>{watch, onelung_}</td>\n",
              "    </tr>\n",
              "    <tr>\n",
              "      <th>1245</th>\n",
              "      <td>[https://twitter.com/protest_nyc/status/132415...</td>\n",
              "      <td>{twitter.com, go.citizen.com}</td>\n",
              "      <td>{Kyle_McMorrow, protest_nyc, greg_doucette, U4...</td>\n",
              "    </tr>\n",
              "    <tr>\n",
              "      <th>1246</th>\n",
              "      <td>[https://twitter.com/ByMikeBaker/status/132420...</td>\n",
              "      <td>{twitter.com, mobile.twitter.com}</td>\n",
              "      <td>{hungrybowtie, ByMikeBaker, MrOlmos}</td>\n",
              "    </tr>\n",
              "    <tr>\n",
              "      <th>1247</th>\n",
              "      <td>[https://twitter.com/desertborder/status/13241...</td>\n",
              "      <td>{twitter.com, www.latimes.com}</td>\n",
              "      <td>{desertborder, SamBraslow, VPS_Reports, ACatWi...</td>\n",
              "    </tr>\n",
              "  </tbody>\n",
              "</table>\n",
              "<p>1248 rows × 3 columns</p>\n",
              "</div>"
            ],
            "text/plain": [
              "                                              testlinks  ...                                              users\n",
              "0     [https://youtu.be/XAa5xb6JitI?t=5982, https://...  ...  {distinctsecretgrasshopper-minneapolis-protest...\n",
              "1     [https://www.facebook.com/damicedsota.thespiri...  ...                        {damicedsota.thespiritflow}\n",
              "2     [https://www.facebook.com/1462345700/posts/102...  ...                                       {1462345700}\n",
              "3     [https://www.denverpost.com/2020/05/29/denver-...  ...                                             {2020}\n",
              "4     [https://twitter.com/ShimonPro/status/12661365...  ...                                        {ShimonPro}\n",
              "...                                                 ...  ...                                                ...\n",
              "1243  [https://twitter.com/Cascadianphotog/status/13...  ...       {hungrybowtie, ByMikeBaker, Cascadianphotog}\n",
              "1244  [https://twitter.com/onelung_/status/132420651...  ...                                  {watch, onelung_}\n",
              "1245  [https://twitter.com/protest_nyc/status/132415...  ...  {Kyle_McMorrow, protest_nyc, greg_doucette, U4...\n",
              "1246  [https://twitter.com/ByMikeBaker/status/132420...  ...               {hungrybowtie, ByMikeBaker, MrOlmos}\n",
              "1247  [https://twitter.com/desertborder/status/13241...  ...  {desertborder, SamBraslow, VPS_Reports, ACatWi...\n",
              "\n",
              "[1248 rows x 3 columns]"
            ]
          },
          "metadata": {
            "tags": []
          },
          "execution_count": 3
        }
      ]
    },
    {
      "cell_type": "code",
      "metadata": {
        "id": "KR7Z1KenTWZd",
        "outputId": "cc1c80e3-5c72-4fb9-8122-c6db44cfbd8b",
        "colab": {
          "base_uri": "https://localhost:8080/"
        }
      },
      "source": [
        "url = df.testlinks[0][0]  #parse a single url\n",
        "o = urlparse(url)\n",
        "o.netloc, o.path"
      ],
      "execution_count": 4,
      "outputs": [
        {
          "output_type": "execute_result",
          "data": {
            "text/plain": [
              "('youtu.be', '/XAa5xb6JitI')"
            ]
          },
          "metadata": {
            "tags": []
          },
          "execution_count": 4
        }
      ]
    },
    {
      "cell_type": "code",
      "metadata": {
        "id": "Sdh1rX66fvsW",
        "outputId": "5cb4232e-64cb-4d14-c002-2b5b0f84a845",
        "colab": {
          "base_uri": "https://localhost:8080/"
        }
      },
      "source": [
        "df.iloc[0]"
      ],
      "execution_count": 15,
      "outputs": [
        {
          "output_type": "execute_result",
          "data": {
            "text/plain": [
              "testlinks    [https://youtu.be/XAa5xb6JitI?t=5982, https://...\n",
              "source                                  {youtu.be, gfycat.com}\n",
              "users        {distinctsecretgrasshopper-minneapolis-protest...\n",
              "Name: 0, dtype: object"
            ]
          },
          "metadata": {
            "tags": []
          },
          "execution_count": 15
        }
      ]
    },
    {
      "cell_type": "code",
      "metadata": {
        "id": "OaS-lknLhLoU"
      },
      "source": [
        ""
      ],
      "execution_count": null,
      "outputs": []
    }
  ]
}