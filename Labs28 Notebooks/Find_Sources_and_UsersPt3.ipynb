{
  "nbformat": 4,
  "nbformat_minor": 0,
  "metadata": {
    "colab": {
      "name": "Find_Sources_and_UsersPt3.ipynb",
      "provenance": [],
      "collapsed_sections": []
    },
    "kernelspec": {
      "name": "python3",
      "display_name": "Python 3"
    }
  },
  "cells": [
    {
      "cell_type": "code",
      "metadata": {
        "id": "WclAMFUTikpL"
      },
      "source": [
        "import pandas as pd\n",
        "from urllib.parse import urlparse"
      ],
      "execution_count": 1,
      "outputs": []
    },
    {
      "cell_type": "code",
      "metadata": {
        "id": "8w3jEKCnxUiX",
        "outputId": "c84e41ae-60a2-4cc9-e864-9ae9fddabc7d",
        "colab": {
          "base_uri": "https://localhost:8080/",
          "height": 502
        }
      },
      "source": [
        "# Load and get shape to same format as export in deduplication notebook\n",
        "path = '/content/Test2020-11-09 03_02_06.620162+00_00.csv'\n",
        "df = pd.read_csv(path, sep='|')\n",
        "df['date'] = pd.to_datetime(df['date'],format='%Y-%m-%d')\n",
        "df['lat'] = df['lat'].index.astype(float)\n",
        "df['long'] = df['long'].index.astype(float)\n",
        "print(df.columns)\n",
        "# Drop all unneccessary columns\n",
        "df.drop(labels=['date', 'id', 'city', 'state', 'lat', 'long', 'title',\n",
        "       'description', 'tags', 'verbalization', 'empty_hand_soft',\n",
        "       'empty_hand_hard', 'less_lethal_methods', 'lethal_force',\n",
        "       'uncategorized'], axis=1, inplace=True)\n",
        "\n",
        "col = df.links\n",
        "\n",
        "def stringtolinks(col):\n",
        "    \"\"\"\n",
        "    Takes a column containing multiple urls as one string and parses urls\n",
        "    \"\"\" \n",
        "    l, words, chars = [], [], []\n",
        "\n",
        "    for row in range(len(col)):\n",
        "        for char in col[row]:\n",
        "            if (ord(char) != ord(\"'\")) and (ord(char) != ord(\"[\")) and (ord(char) != ord(\"]\")) and (char != \" \"):\n",
        "                    if char != \",\":\n",
        "                        chars.append(char)\n",
        "                    else:\n",
        "                        words.append(\"\".join(chars))\n",
        "                        chars = []\n",
        "\n",
        "        words.append(\"\".join(chars))  \n",
        "        l.append(words)\n",
        "        chars = []\n",
        "        words =[]\n",
        "    return l\n",
        "\n",
        "df['links'] = stringtolinks(col)\n",
        "\n",
        "\n",
        "def getSourcesandPaths(col):\n",
        "    \"\"\"\n",
        "    A function to iterate through urls and split the source and path.\n",
        "    \"\"\"\n",
        "    source, path = [], []\n",
        "\n",
        "    for i, row  in enumerate(col):\n",
        "        source_p, path_p = [], []\n",
        "\n",
        "        for item in row:\n",
        "\n",
        "            url = item\n",
        "            o = urlparse(url)\n",
        "            source_p.append(o.netloc)\n",
        "            \n",
        "            # source_p\n",
        "            path_p.append(o.path)\n",
        "\n",
        "        source.append(set(source_p))\n",
        "        path.append(path_p)\n",
        "    # print(len(source), len(paths))\n",
        "    return source, path\n",
        "\n",
        "df['source'], df['paths'] = getSourcesandPaths(col)\n",
        "\n",
        "\n",
        "col = df.paths\n",
        "def splitusers(col):\n",
        "    \"\"\"\n",
        "    A function users to parse path prefix where a identifiable username\n",
        "    can be found.\n",
        "    \"\"\"\n",
        "    users = []\n",
        "    user = set()\n",
        "    chars = \"\"\n",
        "    counter = 0\n",
        "\n",
        "    for row in col:\n",
        "        for item in row:\n",
        "            for char in item:\n",
        "                \n",
        "                # if char == \"/\" and counter != 2:\n",
        "                if (char == \"/\") and (counter < 2):\n",
        "                    counter += 1 \n",
        "                else:\n",
        "                    chars = chars + char\n",
        "\n",
        "                if counter == 2:\n",
        "                    break\n",
        "                    continue\n",
        "\n",
        "            user.add(chars)\n",
        "            chars = \"\"\n",
        "            counter = 0\n",
        "\n",
        "        users.append(user)\n",
        "        user = set()\n",
        "        chars = \"\"\n",
        "        counter = 0\n",
        "\n",
        "    return users\n",
        "\n",
        "\n",
        "df['users'] = splitusers(col)\n",
        "df.drop(labels=['paths'], axis=1, inplace=True)\n",
        "df"
      ],
      "execution_count": 2,
      "outputs": [
        {
          "output_type": "stream",
          "text": [
            "Index(['date', 'links', 'id', 'city', 'state', 'lat', 'long', 'title',\n",
            "       'description', 'tags', 'verbalization', 'empty_hand_soft',\n",
            "       'empty_hand_hard', 'less_lethal_methods', 'lethal_force',\n",
            "       'uncategorized'],\n",
            "      dtype='object')\n"
          ],
          "name": "stdout"
        },
        {
          "output_type": "execute_result",
          "data": {
            "text/html": [
              "<div>\n",
              "<style scoped>\n",
              "    .dataframe tbody tr th:only-of-type {\n",
              "        vertical-align: middle;\n",
              "    }\n",
              "\n",
              "    .dataframe tbody tr th {\n",
              "        vertical-align: top;\n",
              "    }\n",
              "\n",
              "    .dataframe thead th {\n",
              "        text-align: right;\n",
              "    }\n",
              "</style>\n",
              "<table border=\"1\" class=\"dataframe\">\n",
              "  <thead>\n",
              "    <tr style=\"text-align: right;\">\n",
              "      <th></th>\n",
              "      <th>links</th>\n",
              "      <th>source</th>\n",
              "      <th>users</th>\n",
              "    </tr>\n",
              "  </thead>\n",
              "  <tbody>\n",
              "    <tr>\n",
              "      <th>0</th>\n",
              "      <td>[https://www.facebook.com/damicedsota.thespiri...</td>\n",
              "      <td>{www.facebook.com}</td>\n",
              "      <td>{damicedsota.thespiritflow}</td>\n",
              "    </tr>\n",
              "    <tr>\n",
              "      <th>1</th>\n",
              "      <td>[https://www.facebook.com/1462345700/posts/102...</td>\n",
              "      <td>{www.facebook.com}</td>\n",
              "      <td>{1462345700}</td>\n",
              "    </tr>\n",
              "    <tr>\n",
              "      <th>2</th>\n",
              "      <td>[https://youtu.be/XAa5xb6JitI?t=5982, https://...</td>\n",
              "      <td>{youtu.be, gfycat.com}</td>\n",
              "      <td>{XAa5xb6JitI, distinctsecretgrasshopper-minnea...</td>\n",
              "    </tr>\n",
              "    <tr>\n",
              "      <th>3</th>\n",
              "      <td>[https://www.denverpost.com/2020/05/29/denver-...</td>\n",
              "      <td>{www.nytimes.com, www.denverpost.com}</td>\n",
              "      <td>{2020}</td>\n",
              "    </tr>\n",
              "    <tr>\n",
              "      <th>4</th>\n",
              "      <td>[https://twitter.com/ShimonPro/status/12661365...</td>\n",
              "      <td>{twitter.com}</td>\n",
              "      <td>{ShimonPro}</td>\n",
              "    </tr>\n",
              "    <tr>\n",
              "      <th>...</th>\n",
              "      <td>...</td>\n",
              "      <td>...</td>\n",
              "      <td>...</td>\n",
              "    </tr>\n",
              "    <tr>\n",
              "      <th>1244</th>\n",
              "      <td>[https://twitter.com/misstessowen/status/13242...</td>\n",
              "      <td>{twitter.com}</td>\n",
              "      <td>{misstessowen}</td>\n",
              "    </tr>\n",
              "    <tr>\n",
              "      <th>1245</th>\n",
              "      <td>[https://twitter.com/desertborder/status/13241...</td>\n",
              "      <td>{twitter.com, www.latimes.com}</td>\n",
              "      <td>{california, ACatWithNews, SamBraslow, VPS_Rep...</td>\n",
              "    </tr>\n",
              "    <tr>\n",
              "      <th>1246</th>\n",
              "      <td>[https://twitter.com/jangelooff/status/1324167...</td>\n",
              "      <td>{twitter.com}</td>\n",
              "      <td>{jangelooff}</td>\n",
              "    </tr>\n",
              "    <tr>\n",
              "      <th>1247</th>\n",
              "      <td>[https://twitter.com/Cascadianphotog/status/13...</td>\n",
              "      <td>{twitter.com}</td>\n",
              "      <td>{ByMikeBaker, hungrybowtie, Cascadianphotog}</td>\n",
              "    </tr>\n",
              "    <tr>\n",
              "      <th>1248</th>\n",
              "      <td>[https://twitter.com/AdamnCostelloTV/status/13...</td>\n",
              "      <td>{twitter.com}</td>\n",
              "      <td>{AdamnCostelloTV, BoopTroopEugene, PDocumentar...</td>\n",
              "    </tr>\n",
              "  </tbody>\n",
              "</table>\n",
              "<p>1249 rows × 3 columns</p>\n",
              "</div>"
            ],
            "text/plain": [
              "                                                  links  ...                                              users\n",
              "0     [https://www.facebook.com/damicedsota.thespiri...  ...                        {damicedsota.thespiritflow}\n",
              "1     [https://www.facebook.com/1462345700/posts/102...  ...                                       {1462345700}\n",
              "2     [https://youtu.be/XAa5xb6JitI?t=5982, https://...  ...  {XAa5xb6JitI, distinctsecretgrasshopper-minnea...\n",
              "3     [https://www.denverpost.com/2020/05/29/denver-...  ...                                             {2020}\n",
              "4     [https://twitter.com/ShimonPro/status/12661365...  ...                                        {ShimonPro}\n",
              "...                                                 ...  ...                                                ...\n",
              "1244  [https://twitter.com/misstessowen/status/13242...  ...                                     {misstessowen}\n",
              "1245  [https://twitter.com/desertborder/status/13241...  ...  {california, ACatWithNews, SamBraslow, VPS_Rep...\n",
              "1246  [https://twitter.com/jangelooff/status/1324167...  ...                                       {jangelooff}\n",
              "1247  [https://twitter.com/Cascadianphotog/status/13...  ...       {ByMikeBaker, hungrybowtie, Cascadianphotog}\n",
              "1248  [https://twitter.com/AdamnCostelloTV/status/13...  ...  {AdamnCostelloTV, BoopTroopEugene, PDocumentar...\n",
              "\n",
              "[1249 rows x 3 columns]"
            ]
          },
          "metadata": {
            "tags": []
          },
          "execution_count": 2
        }
      ]
    },
    {
      "cell_type": "code",
      "metadata": {
        "id": "KR7Z1KenTWZd",
        "outputId": "39037fd4-d76d-4024-ac97-8aa39e2c88d9",
        "colab": {
          "base_uri": "https://localhost:8080/"
        }
      },
      "source": [
        "url = df.links[0][0]  # parse a single url\n",
        "o = urlparse(url)\n",
        "o.netloc, o.path"
      ],
      "execution_count": 3,
      "outputs": [
        {
          "output_type": "execute_result",
          "data": {
            "text/plain": [
              "('www.facebook.com',\n",
              " '/damicedsota.thespiritflow/videos/10216865788705633/UzpfSTEwMDAxMTAzODkyNjEwMzpWSzoyNjczNDU4ODUyOTMzODE2/')"
            ]
          },
          "metadata": {
            "tags": []
          },
          "execution_count": 3
        }
      ]
    },
    {
      "cell_type": "code",
      "metadata": {
        "id": "Sdh1rX66fvsW",
        "outputId": "eaadceb5-2758-419c-a0fd-f61e51f5db87",
        "colab": {
          "base_uri": "https://localhost:8080/"
        }
      },
      "source": [
        "df.iloc[0]"
      ],
      "execution_count": 4,
      "outputs": [
        {
          "output_type": "execute_result",
          "data": {
            "text/plain": [
              "links     [https://www.facebook.com/damicedsota.thespiri...\n",
              "source                                   {www.facebook.com}\n",
              "users                           {damicedsota.thespiritflow}\n",
              "Name: 0, dtype: object"
            ]
          },
          "metadata": {
            "tags": []
          },
          "execution_count": 4
        }
      ]
    },
    {
      "cell_type": "code",
      "metadata": {
        "id": "OaS-lknLhLoU",
        "outputId": "53130e3c-8aa5-4f6f-a65f-be415b8c7e5b",
        "colab": {
          "base_uri": "https://localhost:8080/"
        }
      },
      "source": [
        "df.users.iloc[0]"
      ],
      "execution_count": 5,
      "outputs": [
        {
          "output_type": "execute_result",
          "data": {
            "text/plain": [
              "{'damicedsota.thespiritflow'}"
            ]
          },
          "metadata": {
            "tags": []
          },
          "execution_count": 5
        }
      ]
    },
    {
      "cell_type": "code",
      "metadata": {
        "id": "bTAUGRUmsXnM"
      },
      "source": [
        ""
      ],
      "execution_count": 5,
      "outputs": []
    }
  ]
}